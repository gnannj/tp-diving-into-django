{
 "cells": [
  {
   "cell_type": "markdown",
   "id": "49459d2c-4c66-42d2-b1a5-5eaa05825782",
   "metadata": {},
   "source": [
    "# TP Diving into Django - Python Cheat Sheet"
   ]
  },
  {
   "cell_type": "markdown",
   "id": "b39d4e86-cfcd-410c-9b8a-98c712b684b4",
   "metadata": {},
   "source": [
    "## Variablen und Datentypen"
   ]
  },
  {
   "cell_type": "code",
   "execution_count": null,
   "id": "4e12b177-74e3-4357-861b-ef95c652a4f6",
   "metadata": {},
   "outputs": [],
   "source": [
    "# Das ist ein einzeiliger Kommentar\n",
    "\n",
    "'''\n",
    "Das ist ein mehrzeiliger Kommmentar\n",
    "oder auch ein Docstring (analog in Java: Javadoc, zur Beschreibung einer Methode)\n",
    "funktioniert mit einfachen, oder doppelten Anführungszeichen\n",
    "'''\n",
    "\"\"\"\n",
    "Regeln für Variablen:\n",
    "- Variablennamen sind case-sensitiv (name und NAME sind zwei unterschiedliche Variablen)\n",
    "- Variablen müssen mit einem Buchstaben oder einem Unterstrich beginnen\n",
    "- Variablen können Zahlen beinhalten, allerdings nicht mit einer Zahl beginnen\n",
    "\"\"\"\n",
    "\n",
    "x = 1            # int\n",
    "y = 2.5          # float\n",
    "name = 'Python'  # string\n",
    "is_cool = True   # bool\n",
    "\n",
    "# Multiple Zuweisung\n",
    "x, y, name, is_cool = (1, 2.5, 'Python', True)\n",
    "\n",
    "print(x, y, name, is_cool)\n",
    "\n",
    "# Basic math\n",
    "a = x + y"
   ]
  },
  {
   "cell_type": "markdown",
   "id": "e09e5d4b",
   "metadata": {},
   "source": [
    "## Casting"
   ]
  },
  {
   "cell_type": "markdown",
   "id": "7225069b",
   "metadata": {},
   "source": [
    "Möglicherweise hilfreich für Aufgabe 1 :)"
   ]
  },
  {
   "cell_type": "code",
   "execution_count": null,
   "id": "b51d83ec",
   "metadata": {},
   "outputs": [],
   "source": [
    "# Check type\n",
    "print(type(x))\n",
    "\n",
    "\n",
    "# Casting\n",
    "x = str(x)\n",
    "y = int(y)\n",
    "z = float(y)\n",
    "\n",
    "# Check type\n",
    "print(type(x))\n",
    "\n",
    "print(y)\n",
    "print(z)"
   ]
  },
  {
   "cell_type": "markdown",
   "id": "9e296592",
   "metadata": {},
   "source": [
    "## Strings und String-Formatierung"
   ]
  },
  {
   "cell_type": "markdown",
   "id": "ed90829b",
   "metadata": {},
   "source": [
    "Strings sind in Python mit einfachen oder doppelten Anführungsstrichen gekennzeichnet.\n",
    "\n",
    "Für die String-Formatierung gibt es verschiedene Möglichkeiten:"
   ]
  },
  {
   "cell_type": "code",
   "execution_count": null,
   "id": "b0182067",
   "metadata": {},
   "outputs": [],
   "source": [
    "name = 'Python'\n",
    "age = 30\n",
    "\n",
    "# Konkatenierung\n",
    "print('Hallo, ich bin ' + name + ' und ich bin ' + str(age)) # mit Plus\n",
    "print('Hallo, ich bin', name, 'und auch ich bin', str(age))  # oder Komma\n",
    "\n",
    "# String Formatierung\n",
    "\n",
    "# Argumente nach Position\n",
    "print('{1}, {2}, {0}'.format('a', 'b', 'c'))\n",
    "\n",
    "# Argumente nach Name\n",
    "print('Mein Name ist {name} und ich bin {age}'.format(name=name, age=age))\n",
    "\n",
    "# F-Strings (nur mit Python 3.6+)\n",
    "print(f'Hier ist nochmal {name} und ich bin immer noch {age}')\n",
    "\n",
    "# %s\n",
    "pythonerfinder = \"Guido van Rossum\"\n",
    "print('Und %s hats erfunden' % pythonerfinder)\n"
   ]
  },
  {
   "cell_type": "markdown",
   "id": "d545190c",
   "metadata": {},
   "source": [
    "String Methoden: Vielleicht gibt's hier auch was nützliches zu Aufgabe 2? ;)"
   ]
  },
  {
   "cell_type": "code",
   "execution_count": null,
   "id": "67568a54",
   "metadata": {},
   "outputs": [],
   "source": [
    "s = 'Hello there World'\n",
    "\n",
    "# Capitalize first letter\n",
    "print(s.capitalize())\n",
    "\n",
    "# Make all uppercase\n",
    "print(s.upper())\n",
    "\n",
    "# Make all lower\n",
    "print(s.lower())\n",
    "\n",
    "# Swap case\n",
    "print(s.swapcase())\n",
    "\n",
    "# Get length\n",
    "print(len(s))\n",
    "\n",
    "# Replace\n",
    "print(s.replace('World', 'everyone'))\n",
    "\n",
    "# Count\n",
    "sub = 'h'\n",
    "print(s.count(sub))\n",
    "\n",
    "# Starts with\n",
    "print(s.startswith('hello'))\n",
    "\n",
    "# Ends with\n",
    "print(s.endswith('d'))\n",
    "\n",
    "# Split into a list\n",
    "print(s.split())\n",
    "\n",
    "# Find position\n",
    "print(s.find('r'))\n",
    "\n",
    "# Is all alphanumeric\n",
    "print(s.isalnum())\n",
    "\n",
    "# Is all alphabetic\n",
    "print(s.isalpha())\n",
    "\n",
    "# Is all numeric\n",
    "print(s.isnumeric())\n",
    "\n",
    "# Contains\n",
    "print('s' in s)"
   ]
  },
  {
   "cell_type": "markdown",
   "id": "0f3cb031",
   "metadata": {},
   "source": [
    "## Listen"
   ]
  },
  {
   "cell_type": "markdown",
   "id": "c8f84a65",
   "metadata": {},
   "source": [
    "Eine Liste ist eine ungeordnete und veränderliche Collection. Eine Liste erlaubt doppelte Einträge."
   ]
  },
  {
   "cell_type": "code",
   "execution_count": null,
   "id": "81d05fab",
   "metadata": {},
   "outputs": [],
   "source": [
    "# Create Lists\n",
    "numbers = [1,2,3,4,5]\n",
    "\n",
    "# Using a constructor\n",
    "numbers = list((1,2,3,4,5))\n",
    "\n",
    "fruits = ['Äpfel', 'Orangen', 'Trauben', 'Birnen', 12]\n",
    "\n",
    "print(fruits)\n",
    "\n",
    "# Get value\n",
    "print(fruits[1])\n",
    "\n",
    "# Get len\n",
    "print(len(fruits))\n",
    "\n",
    "# Append to List\n",
    "fruits.append('Mango')\n",
    "fruits += ['Maracuja']\n",
    "\n",
    "print(fruits)\n",
    "\n",
    "# Remove from list\n",
    "fruits.remove(12)\n",
    "\n",
    "print(fruits)\n",
    "\n",
    "# Insert into position\n",
    "fruits.insert(2, 'Strawberries')\n",
    "\n",
    "print(fruits)\n",
    "\n",
    "# Remove from position\n",
    "fruits.pop(3)\n",
    "\n",
    "print(fruits)\n",
    "\n",
    "# Reverse List\n",
    "fruits.reverse()\n",
    "\n",
    "print(fruits)\n",
    "\n",
    "# Sort List\n",
    "fruits.sort()\n",
    "\n",
    "print(fruits)\n",
    "\n",
    "# Reverse Sort\n",
    "fruits.sort(reverse=True)\n",
    "\n",
    "print(fruits)"
   ]
  },
  {
   "cell_type": "markdown",
   "id": "4d0d8fb3",
   "metadata": {},
   "source": [
    "## Tupels und Sets"
   ]
  },
  {
   "cell_type": "markdown",
   "id": "a9dfbf90",
   "metadata": {},
   "source": [
    "Ein Tupel ist eine geordnete und nicht veränderliche Collection. Sie erlaubt Duplikate."
   ]
  },
  {
   "cell_type": "code",
   "execution_count": null,
   "id": "6cbcd635",
   "metadata": {},
   "outputs": [],
   "source": [
    "# Simple Tupel\n",
    "fruit_tuple = ('Apple', 'Orange', 'Mango')\n",
    "\n",
    "# Konstruktor\n",
    "fruit_tuple2 = tuple(('Apple', 'Orange', 'Mango'))\n",
    "\n",
    "# Get single value\n",
    "print(fruit_tuple[1])\n",
    "\n",
    "# Can not change value\n",
    "# fruit_tuple[1] = 'Grapes'\n",
    "\n",
    "# Tuples mit einem Wert sollten ein nachgestelltes Komma haben\n",
    "fruit_tuple3 = ('Apple',)\n",
    "\n",
    "# Get length of tuple\n",
    "print(len(fruit_tuple))\n",
    "\n",
    "# Löschen\n",
    "del fruit_tuple2\n",
    "\n",
    "# wird nicht funktionieren\n",
    "# print(fruit_tuple2)"
   ]
  },
  {
   "cell_type": "markdown",
   "id": "7cd6a909",
   "metadata": {},
   "source": [
    "Ein Set ist eine ungeordnete und nicht indizierte Collection. Sie hat keine Duplikate und entspricht dem mathematischen Mengenbegriff."
   ]
  },
  {
   "cell_type": "code",
   "execution_count": null,
   "id": "ade5747f",
   "metadata": {},
   "outputs": [],
   "source": [
    "# Erzeuge Set\n",
    "fruit_set = {'Apple', 'Orange', 'Mango'}\n",
    "\n",
    "print(fruit_set)\n",
    "\n",
    "# Check if in set\n",
    "print('Apples' in fruit_set)\n",
    "\n",
    "# Add to set\n",
    "fruit_set.add('Grape')\n",
    "\n",
    "# Remove from set\n",
    "fruit_set.remove('Grape')\n",
    "\n",
    "# Clear set\n",
    "fruit_set.clear()\n",
    "\n",
    "# Delete set\n",
    "del fruit_set\n",
    "\n",
    "# Erzeuge Set über Konstruktor\n",
    "fruit_set2 = set(('Apfel'))\n",
    "\n",
    "type(fruit_set2)"
   ]
  },
  {
   "cell_type": "markdown",
   "id": "aee7d183",
   "metadata": {},
   "source": [
    "## Dictionaries"
   ]
  },
  {
   "cell_type": "markdown",
   "id": "d52987e8",
   "metadata": {},
   "source": [
    "Ein Dictionary ist eine geordnete (seit Python 3.7, davor ungeordnet) Collection, die keine Duplikate erlaubt. \n",
    "\n",
    "Dictionaries verwenden wir im Rahmen des TP zur Übergabe eines Kontexts von einer View zu einem Template. => Brauchen wir spätestens für Aufgabe 2 :)"
   ]
  },
  {
   "cell_type": "code",
   "execution_count": null,
   "id": "500983f1",
   "metadata": {},
   "outputs": [],
   "source": [
    "# Erzeuge Dictionary\n",
    "context = {'fruits': ['Apple', 'Orange'], 'vegetables': ['Carrot', 'Broccoli']}\n",
    "\n",
    "# Auslesen\n",
    "for fruit in context['fruits']:\n",
    "    print(fruit)"
   ]
  },
  {
   "cell_type": "markdown",
   "id": "9cf04e92",
   "metadata": {},
   "source": [
    "## JSON einlesen"
   ]
  },
  {
   "cell_type": "markdown",
   "id": "e27f2018",
   "metadata": {},
   "source": [
    "Für die JSON-Parser-Liebhaber, die das vor oder zu Aufgabe 3 entdecken: so schnell geht Parsen in Python. :)\n",
    "\n",
    "=> Aber nicht vergessen: Python ist eine mächtige Skriptsprache. JSON zum Erzeugen der Bild-Objekte gar nicht notwendig. Versucht mal, über die Python Konsole die File-Namen direkt auszulesen."
   ]
  },
  {
   "cell_type": "code",
   "execution_count": null,
   "id": "ee2961a2",
   "metadata": {},
   "outputs": [],
   "source": [
    "import json\n",
    "\n",
    "# some JSON:\n",
    "x = '{\"pictures\": [{\"file\": \"alysa-bajenaru-P103bmFilDA-unsplash.jpg\",\"title\": \"Blumenwiese\",\"capture_date\": \"\"}, {\"file\": \"ben-parker-OhKElOkQ3RE-unsplash.jpg\",\"title\": \"\",\"capture_date\": \"\"},{\"file\": \"caju-gomes-QDq3YliZg48-unsplash.jpg\",\"title\": \"Melonenliebe\",\"capture_date\": \"\"},{\"file\": \"cesar-rincon-XHVpWcr5grQ-unsplash.jpg\",\"title\": \"\",\"capture_date\": \"\"},{\"file\": \"christoph-schulz-7tb-b37yHx4-unsplash.jpg\",\"title\": \"Segelboot\",\"capture_date\": \"\"},{\"file\": \"damiano-baschiera-hFXZ5cNfkOk-unsplash.jpg\",\"title\": \"Venedig\",\"capture_date\": \"\"},{\"file\": \"david-clode-o8C6UFpqC4s-unsplash.jpg\",\"title\": \"Schlange\",\"capture_date\": \"\"},{\"file\": \"delorean-rental-jLWR4eYzXbw-unsplash.jpg\",\"title\": \"De Lorean\",\"capture_date\": \"\"},{\"file\": \"hitesh-choudhary-D9Zow2REm8U-unsplash.jpg\",\"title\": \"Python\",\"capture_date\": \"\"},{\"file\": \"ian-dooley-hpTH5b6mo2s-unsplash.jpg\",\"title\": \"Heißluftballons\",\"capture_date\": \"\"},{\"file\": \"jack-ward-rknrvCrfS1k-unsplash.jpg\",\"title\": \"Cinque Terre\",\"capture_date\": \"\"},{\"file\": \"jakob-owens-lkMJcGDZLVs-unsplash.jpg\",\"title\": \"\",\"capture_date\": \"\"},{\"file\": \"john-fowler-7Ym9rpYtSdA-unsplash.jpg\",\"title\": \"\",\"capture_date\": \"\"},{\"file\": \"jose-llamas-SJPrbVaHo-Q-unsplash.jpg\",\"title\": \"Tower Bridge\",\"capture_date\": \"\"},{\"file\": \"justin-chen-J7Cf1Gch49E-unsplash.jpg\",\"title\": \"\",\"capture_date\": \"\"},{\"file\": \"kalisa-veer-Y1Ek7_a0wJ0-unsplash.jpg\",\"title\": \"\",\"capture_date\": \"\"},{\"file\": \"nick-rickert-eUo9rRrzy9M-unsplash.jpg\",\"title\": \"\",\"capture_date\": \"\"},{\"file\": \"pietro-de-grandi-T7K4aEPoGGk-unsplash.jpg\",\"title\": \"\",\"capture_date\": \"\"},{\"file\": \"prince-akachi-J1OScm_uHUQ-unsplash.jpg\",\"title\": \"\",\"capture_date\": \"\"},{\"file\": \"ryan-hutton-Jztmx9yqjBw-unsplash.jpg\",\"title\": \"\",\"capture_date\": \"\"},{\"file\": \"tom-barrett-M0AWNxnLaMw-unsplash.jpg\",\"title\": \"\",\"capture_date\": \"\"},{\"file\": \"tyler-nix-PQeoQdkU9jQ-unsplash.jpg\",\"title\": \"\",\"capture_date\": \"\"}]}'\n",
    "\n",
    "# parse x:\n",
    "pictures = json.loads(x)\n",
    "\n",
    "# the result is a Python dictionary:\n",
    "for dict in pictures[\"pictures\"]:\n",
    "\tprint(dict[\"file\"])"
   ]
  },
  {
   "cell_type": "markdown",
   "id": "6d55b9ac",
   "metadata": {},
   "source": [
    "## Klassen"
   ]
  },
  {
   "cell_type": "markdown",
   "id": "36b1e2d3",
   "metadata": {},
   "source": [
    "Wichtige Unterscheidung auch in Python: Instanzvariablen und static Variablen (Klassenvaribalen): "
   ]
  },
  {
   "cell_type": "code",
   "execution_count": null,
   "id": "a9015f5c",
   "metadata": {},
   "outputs": [],
   "source": [
    "class Fisch: # Klasse Fisch\n",
    "    def __init__(self, gewicht): # def Schlüsselwort für Methoden, __init__ ist der Konstruktor...\n",
    "        self.gewicht = gewicht   # ...mit dem die Instanzvariablen gesetzt werden können.\n",
    "        \n",
    "lachs = Fisch(4)\n",
    "\n",
    "print(lachs.gewicht)"
   ]
  },
  {
   "cell_type": "code",
   "execution_count": null,
   "id": "5ac0b870",
   "metadata": {},
   "outputs": [],
   "source": [
    "class Fisch:\n",
    "    wassertemperatur = 20    # Klassenvaribale\n",
    "\n",
    "    def __init__(self, gewicht):\n",
    "        self.gewicht = gewicht\n",
    "        \n",
    "hering = Fisch(1)        \n",
    "print(hering.gewicht)    \n",
    "\n",
    "Fisch.wassertemperatur = 21   # Klassenvariablen werden an der Klasse gesetzt\n",
    "hering.gewicht = 0.5          # Instanzvariablen werden an der Instanz gesetzt\n",
    "print(Fisch.wassertemperatur)\n",
    "print(hering.gewicht)"
   ]
  },
  {
   "cell_type": "markdown",
   "id": "0a55a33a",
   "metadata": {},
   "source": [
    "Kann schnell zu Problemen führen, wenn Unterscheidung zwischen Klassen- und Instanzvariablen nicht ganz klar. Die Instanzvariablen werden erst zur Instanziierung des Objekts erzeugt. Klassenvaribalen sind dagegen statisch. Wird somit fälschlicherweise Klassenvariable statt einer Instanzvarible verwendet, so wird allen Instanzen die Klassenvariable zugeordnet.\n",
    "\n",
    "=> Aufpassen bei Models und Default Werten :)"
   ]
  }
 ],
 "metadata": {
  "kernelspec": {
   "display_name": "Python 3 (ipykernel)",
   "language": "python",
   "name": "python3"
  },
  "language_info": {
   "codemirror_mode": {
    "name": "ipython",
    "version": 3
   },
   "file_extension": ".py",
   "mimetype": "text/x-python",
   "name": "python",
   "nbconvert_exporter": "python",
   "pygments_lexer": "ipython3",
   "version": "3.7.2"
  }
 },
 "nbformat": 4,
 "nbformat_minor": 5
}
